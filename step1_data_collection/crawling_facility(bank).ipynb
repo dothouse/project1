{
 "cells": [
  {
   "cell_type": "markdown",
   "metadata": {},
   "source": [
    "'제주도 은행' 카카오맵 크롤링"
   ]
  },
  {
   "cell_type": "code",
   "execution_count": 7,
   "metadata": {},
   "outputs": [],
   "source": [
    "from selenium import webdriver\n",
    "from bs4 import BeautifulSoup as bs\n",
    "import time\n",
    "import pandas as pd\n",
    "import numpy as np\n",
    "from selenium import webdriver\n",
    "from selenium.webdriver.common.keys import Keys\n",
    "from selenium.webdriver.common.by import By"
   ]
  },
  {
   "cell_type": "code",
   "execution_count": 8,
   "metadata": {},
   "outputs": [],
   "source": [
    "url = 'https://map.kakao.com'\n",
    "driver = webdriver.Chrome()\n",
    "driver.get(url)\n",
    "\n",
    "# 지도 설정 이미지 클릭\n",
    "img = driver.find_element(By.CLASS_NAME, 'inner_coach_layer')\n",
    "img.click()\n",
    "\n",
    "# 검색창에 '제주도 은행' 입력\n",
    "search=driver.find_element(By.ID, 'search.keyword.query')\n",
    "search.send_keys(\"제주도 은행\")\n",
    "\n",
    "driver.find_element(By.CLASS_NAME, 'go.ico_search.btn_search.active').click()\n",
    "\n",
    "soup = bs(driver.page_source,\"lxml\")"
   ]
  },
  {
   "cell_type": "code",
   "execution_count": 9,
   "metadata": {},
   "outputs": [],
   "source": [
    "# 은행 이름\n",
    "title = soup.select(\"a.link_name\")\n",
    "\n",
    "for i in title:\n",
    "    print(i.text)\n",
    "\n",
    "# 은행 주소\n",
    "addr = soup.select('.addr')\n",
    "\n",
    "for i in addr:\n",
    "    print(i.text)\n",
    "\n",
    "# 은행 평점\n",
    "score = soup.select(\".rating.clickArea > .score\")\n",
    "\n",
    "for i in score:\n",
    "    print(i.text)        "
   ]
  },
  {
   "cell_type": "code",
   "execution_count": 12,
   "metadata": {},
   "outputs": [],
   "source": [
    "# 페이지 번호 수집\n",
    "page = driver.find_elements(By.ID, \"info.search.page > div > a\")\n",
    "\n",
    "for i in range(2, 6):\n",
    "    driver.find_element(By.ID, f\"info.search.page.no{i}\").click()"
   ]
  }
 ],
 "metadata": {
  "kernelspec": {
   "display_name": "Python 3",
   "language": "python",
   "name": "python3"
  },
  "language_info": {
   "codemirror_mode": {
    "name": "ipython",
    "version": 3
   },
   "file_extension": ".py",
   "mimetype": "text/x-python",
   "name": "python",
   "nbconvert_exporter": "python",
   "pygments_lexer": "ipython3",
   "version": "3.9.12"
  }
 },
 "nbformat": 4,
 "nbformat_minor": 2
}
