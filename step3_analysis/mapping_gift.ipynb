{
 "cells": [
  {
   "cell_type": "markdown",
   "metadata": {},
   "source": [
    "### gift shop 지도 시각화"
   ]
  },
  {
   "cell_type": "code",
   "execution_count": null,
   "metadata": {},
   "outputs": [],
   "source": [
    "import pandas as pd\n",
    "import requests\n",
    "from urllib.parse import quote"
   ]
  },
  {
   "cell_type": "code",
   "execution_count": null,
   "metadata": {},
   "outputs": [],
   "source": [
    "# API 키 가져오기\n",
    "with open('C:/workspace/kakao.txt') as file:\n",
    "    road_key = file.read()\n",
    "\n",
    "# URL 만들기\n",
    "base_url = 'https://dapi.kakao.com/v2/local/search/address.json'\n",
    "addr = '제주특별자치도 제주시 서해안로 626'\n",
    "url = f'{base_url}?query={quote(addr)}'\n",
    "\n",
    "# Header : Authorization: KakaoAK ${REST_API_KEY}\n",
    "header = {'Authorization': f'KakaoAK {road_key}'}\n",
    "\n",
    "# Kakao Local API 호출하여 결과 가져오기\n",
    "result = requests.get(url, headers=header).json()\n",
    "result"
   ]
  },
  {
   "cell_type": "code",
   "execution_count": null,
   "metadata": {},
   "outputs": [],
   "source": [
    "lat = result['documents'][0]['y'] # 위도(latitude)\n",
    "lng = result['documents'][0]['x'] # 경도(latitude)\n",
    "dong=result['documents'][0]['address']['region_3depth_name']"
   ]
  },
  {
   "cell_type": "code",
   "execution_count": null,
   "metadata": {},
   "outputs": [],
   "source": [
    "# 제주도 기념품샵 정보 완성하기\n",
    "df = pd.read_csv(\"./제주도 기념품샵 목록.csv\")\n",
    "df"
   ]
  },
  {
   "cell_type": "code",
   "execution_count": null,
   "metadata": {},
   "outputs": [],
   "source": [
    "lat_list, lng_list, dong_list = [], [], [] # 빈 리스트 생성. 위도와 경도 값 저장\n",
    "for i in df.index: # df의 각 행에 대해 반복\n",
    "    url = f'{base_url}?query={quote(df[\"주소\"][i])}'\n",
    "    result = requests.get(url, headers=header).json() # API에 요청을 보내고 응답을 JSON 형식으로 받음\n",
    "    try:\n",
    "        lat_list.append(result['documents'][0]['y']) # 위도(y) 추출하여 lat_list에 추가\n",
    "        lng_list.append(result['documents'][0]['x']) # 경도(x) 추출하여 lng_list에 추가\n",
    "        dong_list.append(result['documents'][0]['address']['region_3depth_name'])\n",
    "    except:\n",
    "        print(df.이름[i])  \n",
    "# try-except 구문: try블록 실행 중 예외 발생 시 except블록 실행"
   ]
  },
  {
   "cell_type": "code",
   "execution_count": null,
   "metadata": {},
   "outputs": [],
   "source": [
    "df[df['이름']=='선물고팡 제주공항점']\n",
    "\n",
    "# map함수를 활용해 선물고팡 제주공항점 주소 변경\n",
    "df.loc[203:321, '주소'] = df.loc[203:321]['주소'].map({'제주특별자치도 제주시 월성로 15 1,2층 ':'제주특별자치도 제주시 월성로 15 1'})"
   ]
  },
  {
   "cell_type": "code",
   "execution_count": null,
   "metadata": {},
   "outputs": [],
   "source": [
    "df[df['이름']=='더아일랜더']\n",
    "\n",
    "# 더아일랜더 주소 변경\n",
    "df.loc[1172:1220, '주소'] = df.loc[1172:1220]['주소'].map({'제주특별자치도 제주시 관덕로4길 7 1,2층 ':'제주특별자치도 제주시 관덕로4길 7 1'})"
   ]
  },
  {
   "cell_type": "code",
   "execution_count": null,
   "metadata": {},
   "outputs": [],
   "source": [
    "df[df['이름']=='제주고래감성소품']\n",
    "\n",
    "# 제주고래감성소품 주소 변경\n",
    "df.loc[1655:1656, '주소'] = df.loc[1655:1656]['주소'].map({'제주특별자치도 제주시 애월읍 애월해안로 390 1,2층 ':'제주특별자치도 제주시 애월읍 애월해안로 390 1'})"
   ]
  },
  {
   "cell_type": "code",
   "execution_count": null,
   "metadata": {},
   "outputs": [],
   "source": [
    "# 수정된 데이터로 다시 위도경도 받아오기\n",
    "lat_list, lng_list, dong_list = [], [], [] # 빈 리스트 생성. 위도와 경도 값 저장\n",
    "for i in df.index: # df의 각 행에 대해 반복\n",
    "    url = f'{base_url}?query={quote(df[\"주소\"][i])}'\n",
    "    result = requests.get(url, headers=header).json() # API에 요청을 보내고 응답을 JSON 형식으로 받음\n",
    "    try:\n",
    "        lat_list.append(result['documents'][0]['y']) # 위도(y) 추출하여 lat_list에 추가\n",
    "        lng_list.append(result['documents'][0]['x']) # 경도(x) 추출하여 lng_list에 추가\n",
    "        dong_list.append(result['documents'][0]['address']['region_3depth_name'])\n",
    "    except:\n",
    "        print(df.이름[i])\n",
    "# try-except 구문: try블록 실행 중 예외 발생 시 except블록 실행"
   ]
  },
  {
   "cell_type": "code",
   "execution_count": null,
   "metadata": {},
   "outputs": [],
   "source": [
    "# '선물고팡 제주공항점', '두몰', '더아일랜더', '제주고래감성소품', '제라몽' 행 제거\n",
    "df=df[df.이름 != '선물고팡 제주공항점']\n",
    "df=df[df.이름 != '도두몰']\n",
    "df=df[df.이름 != '더아일랜더']\n",
    "df=df[df.이름 != '제주고래감성소품']\n",
    "df=df[df.이름 != '제라몽']"
   ]
  },
  {
   "cell_type": "code",
   "execution_count": null,
   "metadata": {},
   "outputs": [],
   "source": [
    "df['위도']=lat_list\n",
    "df['경도']=lng_list\n",
    "df['주소2']=dong_list\n",
    "\n",
    "# 제주도 기념품샵 위도 경도 동 리스트\n",
    "lat_list\n",
    "lng_list\n",
    "dong_list"
   ]
  },
  {
   "cell_type": "code",
   "execution_count": null,
   "metadata": {},
   "outputs": [],
   "source": [
    "df.to_csv(\"제주도 기념품샵 목록.csv\", index=False)"
   ]
  },
  {
   "cell_type": "code",
   "execution_count": null,
   "metadata": {},
   "outputs": [],
   "source": []
  },
  {
   "cell_type": "code",
   "execution_count": null,
   "metadata": {},
   "outputs": [],
   "source": [
    "df = pd.read_csv('./제주도 기념품샵 목록.csv')      \n",
    "df"
   ]
  },
  {
   "cell_type": "code",
   "execution_count": null,
   "metadata": {},
   "outputs": [],
   "source": [
    "import folium\n",
    "\n",
    "\n",
    "# folium.Map() 함수 사용하여 지도 객체 생성하기\n",
    "# df의 위도와 경도 열의 평균값인 위치에 해당하는 지도를 생성하고 확대 수준을 10으로 설정\n",
    "map=folium.Map(location=[df.위도.mean(), df.경도.mean()], zoom_start=10)\n",
    "map"
   ]
  },
  {
   "cell_type": "code",
   "execution_count": null,
   "metadata": {},
   "outputs": [],
   "source": [
    "# 제주시(blue)-서귀포시(green) 구분해서 folium.Marker\n",
    "tiles = \"http://mt0.google.com/vt/lyrs=m&hl=ko&x={x}&y={y}&z={z}\" # 구글지도 타일 설정\n",
    "attr= \"Google\" # 속성 설정\n",
    "map = folium.Map(location=[df['위도'].mean(), df['경도'].mean()], # folium을 사용하여 지도 초기화\n",
    "                 zoom_start=10, tiles=tiles, attr=attr)\n",
    "for i in df.index: # df의 각 행을 반복\n",
    "    if '제주시' in df.loc[i, '주소']:\n",
    "        folium.Marker(\n",
    "            location=[df.loc[i, '위도'], df.loc[i, '경도']],\n",
    "            tooltip=df.loc[i, '이름'], # 마커에 마우스를 올렸을 때 표시되는 툴팁으로 이름 표시\n",
    "            popup=folium.Popup(df.loc[i, '주소'], max_width=200),\n",
    "            icon=folium.Icon(color='green', icon='glyphicon-gift')\n",
    "        ).add_to(map)\n",
    "    else:\n",
    "        folium.Marker(\n",
    "            location=[df.loc[i, '위도'], df.loc[i, '경도']],\n",
    "            tooltip=df.loc[i, '이름'], # 마커에 마우스를 올렸을 때 표시되는 툴팁으로 이름 표시\n",
    "            popup=folium.Popup(df.loc[i, '주소'], max_width=200),\n",
    "            icon=folium.Icon(color='blue', icon='glyphicon-gift')\n",
    "        ).add_to(map)\n",
    "\n",
    "map        "
   ]
  },
  {
   "cell_type": "code",
   "execution_count": null,
   "metadata": {},
   "outputs": [],
   "source": []
  }
 ],
 "metadata": {
  "kernelspec": {
   "display_name": "firstenv",
   "language": "python",
   "name": "python3"
  },
  "language_info": {
   "codemirror_mode": {
    "name": "ipython",
    "version": 3
   },
   "file_extension": ".py",
   "mimetype": "text/x-python",
   "name": "python",
   "nbconvert_exporter": "python",
   "pygments_lexer": "ipython3",
   "version": "3.9.18"
  }
 },
 "nbformat": 4,
 "nbformat_minor": 2
}
