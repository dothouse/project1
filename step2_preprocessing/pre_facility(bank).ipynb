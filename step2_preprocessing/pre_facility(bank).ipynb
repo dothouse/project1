{
 "cells": [
  {
   "cell_type": "markdown",
   "metadata": {},
   "source": [
    "# 생활편의 시설(은행) - 전처리"
   ]
  },
  {
   "cell_type": "code",
   "execution_count": null,
   "metadata": {},
   "outputs": [],
   "source": [
    "import pandas as pd"
   ]
  },
  {
   "cell_type": "code",
   "execution_count": null,
   "metadata": {},
   "outputs": [],
   "source": [
    "# 데이터 불러오기\n",
    "df=pd.read_excel(\"./제주도 은행_크롤링 결과.xlsx\")\n",
    "df.head()"
   ]
  },
  {
   "cell_type": "code",
   "execution_count": null,
   "metadata": {},
   "outputs": [],
   "source": [
    "# 불필요한 컬럼 삭제\n",
    "df.drop(columns=['Column1', '평점'], inplace=True) # 원본에 그대로 적용\n",
    "\n",
    "df['주소'] = df['주소'].str.replace('\\n', ' ')\n",
    "\n",
    "df.rename(columns={'이름':'은행명'}, inplace=True)"
   ]
  },
  {
   "cell_type": "code",
   "execution_count": null,
   "metadata": {},
   "outputs": [],
   "source": [
    "df['은행명'].unique()"
   ]
  },
  {
   "cell_type": "code",
   "execution_count": null,
   "metadata": {},
   "outputs": [],
   "source": [
    "# index를 포함하지 않고 데이터 저장\n",
    "df.to_csv(\"제주도 은행지점 및 ATM 목록.csv\", index=False)"
   ]
  },
  {
   "cell_type": "code",
   "execution_count": null,
   "metadata": {},
   "outputs": [],
   "source": [
    "# 데이터 불러오기\n",
    "df=pd.read_csv(\"./제주도 은행지점 및 ATM 목록.csv\")\n",
    "df.head()"
   ]
  },
  {
   "cell_type": "code",
   "execution_count": null,
   "metadata": {},
   "outputs": [],
   "source": [
    "# 분할된 결과를 새로운 df에 저장\n",
    "split_addr=df['주소'].str.split(\"(\", expand=True) # 분할된 결과를 여러 열로 확장하여 반환\n",
    "\n",
    "# 기존 df에 새로운 열로 추가\n",
    "df['주소2'] = split_addr[0]\n",
    "\n",
    "# 불필요한 컬럼 삭제\n",
    "df.drop(columns=['주소'], inplace=True) # 원본에 그대로 적용\n",
    "\n",
    "# 컬럼명 변경\n",
    "df.rename(columns={'주소2':'주소'}, inplace=True)"
   ]
  },
  {
   "cell_type": "code",
   "execution_count": null,
   "metadata": {},
   "outputs": [],
   "source": [
    "# ATM 관련 데이터 삭제\n",
    "\n",
    "idx=df[df['은행명'].str.contains('365')].index\n",
    "df=df.drop(idx)\n",
    "\n",
    "idx=df[df['은행명'].str.contains('ATM')].index\n",
    "df=df.drop(idx)"
   ]
  },
  {
   "cell_type": "code",
   "execution_count": null,
   "metadata": {},
   "outputs": [],
   "source": [
    "# ATM 관련 데이터 삭제\n",
    "\n",
    "idx=df[df['은행명'].str.contains('365')].index\n",
    "df=df.drop(idx)\n",
    "\n",
    "idx=df[df['은행명'].str.contains('ATM')].index\n",
    "df=df.drop(idx)"
   ]
  },
  {
   "cell_type": "code",
   "execution_count": null,
   "metadata": {},
   "outputs": [],
   "source": [
    "df.to_csv(\"제주도 은행 목록.csv\", index=False)"
   ]
  }
 ],
 "metadata": {
  "kernelspec": {
   "display_name": "firstenv",
   "language": "python",
   "name": "python3"
  },
  "language_info": {
   "name": "python",
   "version": "3.9.18"
  }
 },
 "nbformat": 4,
 "nbformat_minor": 2
}
