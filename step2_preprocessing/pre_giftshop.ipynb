{
 "cells": [
  {
   "cell_type": "markdown",
   "metadata": {},
   "source": [
    "### 기념품샵 - 전처리"
   ]
  },
  {
   "cell_type": "code",
   "execution_count": null,
   "metadata": {},
   "outputs": [],
   "source": [
    "import pandas as pd"
   ]
  },
  {
   "cell_type": "code",
   "execution_count": null,
   "metadata": {},
   "outputs": [],
   "source": [
    "# 데이터 불러오기\n",
    "df=pd.read_csv(\"./제주도 기념품샵_크롤링 결과.csv\")\n",
    "df.head()"
   ]
  },
  {
   "cell_type": "code",
   "execution_count": null,
   "metadata": {},
   "outputs": [],
   "source": [
    "# 불필요한 컬럼 삭제\n",
    "df.drop(columns=['Column1'], inplace=True) #원본에 그대로 적용\n",
    "\n",
    "# 컬럼명 변경\n",
    "df.rename(columns={'Column2':'이름'}, inplace=True)\n",
    "df.rename(columns={'Column3':'주소'}, inplace=True)\n",
    "df.rename(columns={'Column4':'별점'}, inplace=True)\n",
    "df.rename(columns={'Column5':'리뷰'}, inplace=True)\n",
    "df.rename(columns={'Column6':'홈페이지'}, inplace=True)\n",
    "\n",
    "df.head(10)"
   ]
  },
  {
   "cell_type": "code",
   "execution_count": null,
   "metadata": {},
   "outputs": [],
   "source": [
    "df['주소'] = df['주소'].str.replace('\\n', ' ')\n",
    "\n",
    "df['주소']=df['주소'].str.replace('                 ', ' ')"
   ]
  },
  {
   "cell_type": "code",
   "execution_count": null,
   "metadata": {},
   "outputs": [],
   "source": [
    "split_addr=df['주소'].str.split(\"(\", expand=True) # 분할된 결과를 여러 열로 확장하여 반환\n",
    "split_addr"
   ]
  },
  {
   "cell_type": "code",
   "execution_count": null,
   "metadata": {},
   "outputs": [],
   "source": [
    "# 기존 df에 새로운 열로 추가\n",
    "df['주소3'] = split_addr[1]\n",
    "df['주소'] = split_addr[0]\n",
    "\n",
    "# 불필요한 컬럼 삭제\n",
    "df.drop(columns=['주소3'], inplace=True) # 원본에 그대로 적용\n",
    "\n",
    "# index를 포함하지 않고 데이터 저장\n",
    "df.to_csv(\"제주도 기념품샵 목록.csv\", index=False)\n",
    "\n",
    "# 데이터 불러오기\n",
    "df=pd.read_csv(\"./제주도 기념품샵 목록.csv\")\n",
    "df.head()"
   ]
  },
  {
   "cell_type": "code",
   "execution_count": null,
   "metadata": {},
   "outputs": [],
   "source": [
    "# 기존 df에 새로운 열로 추가\n",
    "df['주소3'] = split_addr[1]\n",
    "df['주소'] = split_addr[0]\n",
    "\n",
    "# 불필요한 컬럼 삭제\n",
    "df.drop(columns=['주소3'], inplace=True) # 원본에 그대로 적용\n",
    "\n",
    "# index를 포함하지 않고 데이터 저장\n",
    "df.to_csv(\"제주도 기념품샵 목록.csv\", index=False)\n",
    "\n",
    "# 데이터 불러오기\n",
    "df=pd.read_csv(\"./제주도 기념품샵 목록.csv\")\n",
    "df.head()"
   ]
  },
  {
   "cell_type": "code",
   "execution_count": null,
   "metadata": {},
   "outputs": [],
   "source": [
    "df['별점'].replace(['width:100%;', 'width:80%;', 'width:60%;', 'width:40%;', 'width:20%;', 'none'],\n",
    "              ['5', '4', '3', '2', '1', ''], inplace=True)\n",
    "\n",
    "df['리뷰'].replace(['none'],[''], inplace=True) # none -> 공백\n",
    "df['리뷰'] = df['리뷰'].replace('none', '')\n",
    "\n",
    "df['홈페이지'].replace(['none'],[''], inplace=True)\n",
    "\n",
    "# 별점, 리뷰, 홈페이지 컬럼의 빈 부분을 공백으로 채우기\n",
    "df['별점']=df['별점'].fillna('')\n",
    "df['리뷰']=df['리뷰'].fillna('')\n",
    "df['홈페이지']=df['홈페이지'].fillna('')"
   ]
  },
  {
   "cell_type": "code",
   "execution_count": null,
   "metadata": {},
   "outputs": [],
   "source": [
    "# index를 포함하지 않고 데이터 저장\n",
    "df.to_csv(\"제주도 기념품샵 목록.csv\", index=False)"
   ]
  }
 ],
 "metadata": {
  "language_info": {
   "name": "python"
  }
 },
 "nbformat": 4,
 "nbformat_minor": 2
}
